{
 "cells": [
  {
   "cell_type": "code",
   "execution_count": 114,
   "metadata": {},
   "outputs": [],
   "source": [
    "import numpy as np\n",
    "import tensorflow as tf\n",
    "import pandas as pd\n",
    "import matplotlib.pyplot as plt\n",
    "\n",
    "from sklearn.linear_model import LogisticRegression\n",
    "from sklearn.tree import DecisionTreeClassifier\n",
    "from sklearn.svm import SVC\n",
    "from sklearn.neural_network import MLPClassifier\n",
    "from sklearn.ensemble import RandomForestClassifier\n",
    "\n",
    "from sklearn.model_selection import train_test_split\n",
    "from sklearn.model_selection import cross_val_score\n",
    "from sklearn.model_selection import GridSearchCV\n",
    "from sklearn.model_selection import RandomizedSearchCV\n",
    "\n",
    "from sklearn.metrics import roc_curve\n",
    "from sklearn.metrics import roc_auc_score\n",
    "from sklearn.metrics import confusion_matrix\n",
    "from sklearn.metrics import precision_score\n",
    "from sklearn.metrics import recall_score\n",
    "from sklearn.metrics import f1_score\n",
    "from sklearn.metrics import accuracy_score\n",
    "from sklearn.metrics import precision_recall_curve\n",
    "from sklearn.preprocessing import MinMaxScaler\n",
    "from imblearn.over_sampling import RandomOverSampler\n",
    "from imblearn.under_sampling import RandomUnderSampler\n",
    "from imblearn.over_sampling import SMOTE\n",
    "\n",
    "import pickle"
   ]
  },
  {
   "cell_type": "code",
   "execution_count": 115,
   "metadata": {},
   "outputs": [],
   "source": [
    "import warnings\n",
    "warnings.filterwarnings(\"ignore\")"
   ]
  },
  {
   "cell_type": "code",
   "execution_count": 116,
   "metadata": {},
   "outputs": [],
   "source": [
    "trained_data = \"train.csv\"\n",
    "test_data = \"test.csv\""
   ]
  },
  {
   "cell_type": "code",
   "execution_count": 117,
   "metadata": {},
   "outputs": [],
   "source": [
    "data_raw_trained = pd.read_csv(trained_data,header=0,sep=',',na_values='unknown')\n",
    "data_raw_trained['Loan_Status'].replace('N', 0, inplace=True)\n",
    "data_raw_trained['Loan_Status'].replace('Y', 1, inplace=True)\n",
    "\n",
    "data_raw_test = pd.read_csv(test_data,header=0,sep=',',na_values='unknown')\n",
    "loanID = data_raw_test.dropna().Loan_ID"
   ]
  },
  {
   "cell_type": "markdown",
   "metadata": {},
   "source": [
    "## Data preparation"
   ]
  },
  {
   "cell_type": "code",
   "execution_count": 118,
   "metadata": {},
   "outputs": [],
   "source": [
    "def preprocessing(data):\n",
    "    data_raw_trained_clean = data.copy().drop('Loan_ID',axis=1)\n",
    "    # Seperate between categorical and numerical data\n",
    "    clean_data_obj = data_raw_trained_clean.select_dtypes(include=['object'])\n",
    "    clean_data_num = data_raw_trained_clean.select_dtypes(exclude=['object']) \n",
    "    # One-hot categorical data\n",
    "    clean_data_obj = pd.get_dummies(clean_data_obj,drop_first=True)\n",
    "    scaler = MinMaxScaler()\n",
    "    scaler.fit(clean_data_num)\n",
    "    clean_data_num = pd.DataFrame(scaler.transform(clean_data_num),columns=clean_data_num.keys())\n",
    "    data_raw_trained_clean = clean_data_num.join(clean_data_obj)\n",
    "    return data_raw_trained_clean"
   ]
  },
  {
   "cell_type": "code",
   "execution_count": 119,
   "metadata": {},
   "outputs": [],
   "source": [
    "train_x,test_x,train_y,test_y = train_test_split(features,label, test_size=0.33, random_state=42)"
   ]
  },
  {
   "cell_type": "code",
   "execution_count": 120,
   "metadata": {},
   "outputs": [
    {
     "name": "stdout",
     "output_type": "stream",
     "text": [
      "Logistic Regression model's average AUC: 0.7424\n"
     ]
    }
   ],
   "source": [
    "# Logistic Regression\n",
    "lr_clf = LogisticRegression()\n",
    "scores = cross_val_score(lr_clf,train_x,train_y,cv=3,scoring='roc_auc')\n",
    "\n",
    "print(f\"Logistic Regression model's average AUC: {scores.mean():.4f}\")"
   ]
  },
  {
   "cell_type": "code",
   "execution_count": 121,
   "metadata": {},
   "outputs": [
    {
     "name": "stdout",
     "output_type": "stream",
     "text": [
      "Tree Classifer model's average AUC: 0.6544\n"
     ]
    }
   ],
   "source": [
    "# Decision Tree\n",
    "tree_clf = DecisionTreeClassifier()\n",
    "scores = cross_val_score(tree_clf,train_x,train_y,cv=10,scoring='roc_auc')\n",
    "\n",
    "print(f\"Tree Classifer model's average AUC: {scores.mean():.4f}\")"
   ]
  },
  {
   "cell_type": "code",
   "execution_count": 122,
   "metadata": {},
   "outputs": [
    {
     "name": "stdout",
     "output_type": "stream",
     "text": [
      "SVM Classfier model's average AUC: 0.7263\n"
     ]
    }
   ],
   "source": [
    "# SVM\n",
    "svm_clf = SVC()\n",
    "scores = cross_val_score(svm_clf,train_x,train_y,cv=10,scoring='roc_auc')\n",
    "\n",
    "print(f\"SVM Classfier model's average AUC: {scores.mean():.4f}\")"
   ]
  },
  {
   "cell_type": "code",
   "execution_count": 123,
   "metadata": {},
   "outputs": [
    {
     "name": "stdout",
     "output_type": "stream",
     "text": [
      "XG Classfier model's average AUC: 0.7311\n"
     ]
    }
   ],
   "source": [
    "# XGBClassifier\n",
    "xg_clf = XGBClassifier()\n",
    "scores = cross_val_score(xg_clf,train_x,train_y,cv=10,scoring='roc_auc')\n",
    "\n",
    "print(f\"XG Classfier model's average AUC: {scores.mean():.4f}\")"
   ]
  },
  {
   "cell_type": "markdown",
   "metadata": {},
   "source": [
    "## Selected Model Evaluation "
   ]
  },
  {
   "cell_type": "code",
   "execution_count": 124,
   "metadata": {},
   "outputs": [],
   "source": [
    "def eval_matrics(pred_class_y,pred_prob_y,label_y,model_name='Model'):\n",
    "    # Matrics\n",
    "    auc = roc_auc_score(label_y,pred_prob_y[:,1])\n",
    "    print(f'{model_name} AUC is {auc:.4f}')\n",
    "    acc = accuracy_score(label_y,pred_class_y)\n",
    "    print(f'{model_name} Accuracy is {acc:.4f}')\n",
    "    precision = precision_score(label_y,pred_class_y)\n",
    "    print(f'{model_name} precision is {precision:.4f}')\n",
    "    recall = recall_score(label_y,pred_class_y)\n",
    "    print(f'{model_name} recall is {recall:.4f}')\n",
    "    f1 = f1_score(label_y,pred_class_y)\n",
    "    print(f'{model_name} f1-score is {f1:.4f}')\n",
    "    # Confusion Matrix\n",
    "    print(f'Confusion Matrix of {model_name}:')\n",
    "    print(confusion_matrix(label_y,pred_class_y))\n",
    "    return    "
   ]
  },
  {
   "cell_type": "code",
   "execution_count": 125,
   "metadata": {},
   "outputs": [
    {
     "name": "stdout",
     "output_type": "stream",
     "text": [
      "Logistic Regression Model AUC is 0.7956\n",
      "Logistic Regression Model Accuracy is 0.8171\n",
      "Logistic Regression Model precision is 0.7959\n",
      "Logistic Regression Model recall is 0.9832\n",
      "Logistic Regression Model f1-score is 0.8797\n",
      "Confusion Matrix of Logistic Regression Model:\n",
      "[[ 26  30]\n",
      " [  2 117]]\n"
     ]
    }
   ],
   "source": [
    "# LogisticRegression\n",
    "lr_clf = LogisticRegression().fit(train_x,train_y)\n",
    "pred_class_y = lr_clf.predict(test_x)\n",
    "pred_prob_y = lr_clf.predict_proba(test_x)\n",
    "# Evaluate\n",
    "eval_matrics(pred_class_y,pred_prob_y,test_y,'Logistic Regression Model')\n"
   ]
  },
  {
   "cell_type": "code",
   "execution_count": 126,
   "metadata": {},
   "outputs": [],
   "source": [
    "fpr_lr_base, tpr_lr_base ,_= roc_curve(test_y, pred_prob_y[:,1])"
   ]
  },
  {
   "cell_type": "code",
   "execution_count": 127,
   "metadata": {},
   "outputs": [
    {
     "name": "stdout",
     "output_type": "stream",
     "text": [
      "XGBClassifier Model AUC is 0.7756\n",
      "XGBClassifier Model Accuracy is 0.8000\n",
      "XGBClassifier Model precision is 0.7958\n",
      "XGBClassifier Model recall is 0.9496\n",
      "XGBClassifier Model f1-score is 0.8659\n",
      "Confusion Matrix of XGBClassifier Model:\n",
      "[[ 27  29]\n",
      " [  6 113]]\n"
     ]
    }
   ],
   "source": [
    "# XGBClassifier\n",
    "xg_clf = XGBClassifier().fit(train_x,train_y)\n",
    "pred_class_y = xg_clf.predict(test_x)\n",
    "pred_prob_y = xg_clf.predict_proba(test_x)\n",
    "# Evaluate\n",
    "eval_matrics(pred_class_y,pred_prob_y,test_y,'XGBClassifier Model')"
   ]
  },
  {
   "cell_type": "code",
   "execution_count": 128,
   "metadata": {},
   "outputs": [],
   "source": [
    "# Calculate fpr,and tpr for future ROC ploting\n",
    "fpr_xg_base, tpr_xg_base ,_= roc_curve(test_y, pred_prob_y[:,1])"
   ]
  },
  {
   "cell_type": "code",
   "execution_count": 129,
   "metadata": {},
   "outputs": [
    {
     "data": {
      "image/png": "[encoded data removed]",
      "text/plain": [
       "<Figure size 432x288 with 1 Axes>"
      ]
     },
     "metadata": {
      "needs_background": "light"
     },
     "output_type": "display_data"
    }
   ],
   "source": [
    "\n",
    "plt.plot(fpr_lr_base, tpr_lr_base ,linewidth=2, label='LR')\n",
    "plt.plot(fpr_xg_base, tpr_xg_base ,linewidth=2, label='XG')\n",
    "plt.plot([0,1],[0,1],'k--')\n",
    "plt.axis([0,1,0,1])\n",
    "plt.legend()\n",
    "plt.xlabel('False Positive Rate')\n",
    "plt.ylabel('True Positive Rate')\n",
    "plt.title('ROC of Baseline Models')\n",
    "plt.show()"
   ]
  },
  {
   "cell_type": "markdown",
   "metadata": {},
   "source": [
    "## Gridsearch"
   ]
  },
  {
   "cell_type": "code",
   "execution_count": 130,
   "metadata": {},
   "outputs": [
    {
     "name": "stdout",
     "output_type": "stream",
     "text": [
      "Fitting 3 folds for each of 28 candidates, totalling 84 fits\n"
     ]
    },
    {
     "name": "stderr",
     "output_type": "stream",
     "text": [
      "[Parallel(n_jobs=1)]: Using backend SequentialBackend with 1 concurrent workers.\n",
      "[Parallel(n_jobs=1)]: Done  84 out of  84 | elapsed:    0.6s finished\n"
     ]
    },
    {
     "data": {
      "text/plain": [
       "{'C': 0.01, 'class_weight': None, 'penalty': 'l2'}"
      ]
     },
     "execution_count": 130,
     "metadata": {},
     "output_type": "execute_result"
    }
   ],
   "source": [
    "# Create Grid parameters\n",
    "# linear regularization type (penalty)\n",
    "penalty_type = ['l1','l2']\n",
    "\n",
    "# Inverse of regularization strength (C)\n",
    "reg_str = [0.001, 0.01, 0.1, 1, 10, 100, 1000] \n",
    "\n",
    "# Weights associated with classes (class_weight)\n",
    "cl_weight = [None, 'balanced']\n",
    "# cl_weight = [None, 'balanced',{0:1,1:2}]\n",
    "\n",
    "# Create the grid search parameters\n",
    "lr_param_grid = {'penalty':penalty_type,\n",
    "                  'C':reg_str,\n",
    "                  'class_weight':cl_weight}\n",
    "# Create a based model\n",
    "lr_clf = LogisticRegression()\n",
    "# Instantiate the grid search model\n",
    "lr_grid_search = GridSearchCV(estimator = lr_clf, param_grid = lr_param_grid, cv=3, scoring ='roc_auc',verbose=1)\n",
    "# Fit the grid search to the data\n",
    "lr_grid_search.fit(train_x,train_y)\n",
    "lr_grid_search.best_params_\n"
   ]
  },
  {
   "cell_type": "code",
   "execution_count": 131,
   "metadata": {},
   "outputs": [
    {
     "name": "stdout",
     "output_type": "stream",
     "text": [
      "Tuned LR Model AUC is 0.8432\n",
      "Tuned LR Model Accuracy is 0.6800\n",
      "Tuned LR Model precision is 0.6800\n",
      "Tuned LR Model recall is 1.0000\n",
      "Tuned LR Model f1-score is 0.8095\n",
      "Confusion Matrix of Tuned LR Model:\n",
      "[[  0  56]\n",
      " [  0 119]]\n"
     ]
    }
   ],
   "source": [
    "# Fit and Predict\n",
    "lr_clf = LogisticRegression(penalty='l2', C=0.01).fit(train_x,train_y)\n",
    "pred_class_y = lr_clf.predict(test_x)\n",
    "pred_prob_y = lr_clf.predict_proba(test_x)\n",
    "# Evaluate\n",
    "eval_matrics(pred_class_y,pred_prob_y,test_y,'Tuned LR Model')"
   ]
  },
  {
   "cell_type": "code",
   "execution_count": 134,
   "metadata": {},
   "outputs": [
    {
     "data": {
      "text/plain": [
       "LogisticRegression(C=0.01, class_weight=None, dual=False, fit_intercept=True,\n",
       "          intercept_scaling=1, max_iter=100, multi_class='warn',\n",
       "          n_jobs=None, penalty='l2', random_state=None, solver='warn',\n",
       "          tol=0.0001, verbose=0, warm_start=False)"
      ]
     },
     "execution_count": 134,
     "metadata": {},
     "output_type": "execute_result"
    }
   ],
   "source": [
    "from sklearn.model_selection import train_test_split\n",
    "data_raw_trained_clean = preprocessing(data_raw_trained)\n",
    "data_raw_test_clean = preprocessing(data_raw_test)\n",
    "features = data_raw_trained_clean.dropna().drop('Loan_Status',axis=1)\n",
    "label = data_raw_trained_clean.dropna().Loan_Status\n",
    "\n",
    "model = LogisticRegression(penalty='l2', C=0.01)\n",
    "model.fit(features, label)\n",
    "\n"
   ]
  },
  {
   "cell_type": "code",
   "execution_count": null,
   "metadata": {},
   "outputs": [],
   "source": [
    "data"
   ]
  },
  {
   "cell_type": "code",
   "execution_count": 140,
   "metadata": {},
   "outputs": [],
   "source": [
    "data_raw_test_clean = data_raw_test_clean.fillna(0)"
   ]
  },
  {
   "cell_type": "code",
   "execution_count": 141,
   "metadata": {},
   "outputs": [],
   "source": [
    "y_pred = model.predict(data_raw_test_clean)"
   ]
  },
  {
   "cell_type": "code",
   "execution_count": 142,
   "metadata": {},
   "outputs": [
    {
     "data": {
      "text/plain": [
       "array([1., 1., 1., 1., 1., 1., 1., 1., 1., 1., 1., 1., 1., 1., 1., 1., 1.,\n",
       "       1., 1., 1., 1., 1., 1., 1., 1., 1., 1., 1., 1., 1., 1., 1., 1., 1.,\n",
       "       1., 1., 1., 1., 1., 1., 1., 1., 1., 1., 1., 1., 1., 1., 1., 1., 1.,\n",
       "       1., 1., 1., 1., 1., 1., 1., 1., 1., 1., 1., 1., 1., 1., 1., 1., 1.,\n",
       "       1., 1., 1., 1., 1., 1., 1., 1., 1., 1., 1., 1., 1., 1., 1., 1., 1.,\n",
       "       1., 1., 1., 1., 1., 1., 1., 1., 1., 1., 1., 1., 1., 1., 1., 1., 1.,\n",
       "       1., 1., 1., 1., 1., 1., 1., 1., 1., 1., 1., 1., 1., 1., 1., 1., 1.,\n",
       "       1., 1., 1., 1., 1., 1., 1., 1., 1., 1., 1., 1., 1., 1., 1., 1., 1.,\n",
       "       1., 1., 1., 1., 1., 1., 1., 1., 1., 1., 1., 1., 1., 1., 1., 1., 1.,\n",
       "       1., 1., 1., 1., 1., 1., 1., 1., 1., 1., 1., 1., 1., 1., 1., 1., 1.,\n",
       "       1., 1., 1., 1., 1., 1., 1., 1., 1., 1., 1., 1., 1., 1., 1., 1., 1.,\n",
       "       1., 1., 1., 1., 1., 1., 1., 1., 1., 1., 1., 1., 1., 1., 1., 1., 1.,\n",
       "       1., 1., 1., 1., 1., 1., 1., 1., 1., 1., 1., 1., 1., 1., 1., 1., 1.,\n",
       "       1., 1., 1., 1., 1., 1., 1., 1., 1., 1., 1., 1., 1., 1., 1., 1., 1.,\n",
       "       1., 1., 1., 1., 1., 1., 1., 1., 1., 1., 1., 1., 1., 1., 1., 1., 1.,\n",
       "       1., 1., 1., 1., 1., 1., 1., 1., 1., 1., 1., 1., 1., 1., 1., 1., 1.,\n",
       "       1., 1., 1., 1., 1., 1., 1., 1., 1., 1., 1., 1., 1., 1., 1., 1., 1.,\n",
       "       1., 1., 1., 1., 1., 1., 1., 1., 1., 1., 1., 1., 1., 1., 1., 1., 1.,\n",
       "       1., 1., 1., 1., 1., 1., 1., 1., 1., 1., 1., 1., 1., 1., 1., 1., 1.,\n",
       "       1., 1., 1., 1., 1., 1., 1., 1., 1., 1., 1., 1., 1., 1., 1., 1., 1.,\n",
       "       1., 1., 1., 1., 1., 1., 1., 1., 1., 1., 1., 1., 1., 1., 1., 1., 1.,\n",
       "       1., 1., 1., 1., 1., 1., 1., 1., 1., 1.])"
      ]
     },
     "execution_count": 142,
     "metadata": {},
     "output_type": "execute_result"
    }
   ],
   "source": [
    "y_pred"
   ]
  },
  {
   "cell_type": "code",
   "execution_count": null,
   "metadata": {},
   "outputs": [],
   "source": []
  }
 ],
 "metadata": {
  "kernelspec": {
   "display_name": "Python 3",
   "language": "python",
   "name": "python3"
  },
  "language_info": {
   "codemirror_mode": {
    "name": "ipython",
    "version": 3
   },
   "file_extension": ".py",
   "mimetype": "text/x-python",
   "name": "python",
   "nbconvert_exporter": "python",
   "pygments_lexer": "ipython3",
   "version": "3.7.0"
  }
 },
 "nbformat": 4,
 "nbformat_minor": 2
}
