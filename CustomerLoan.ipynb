{
 "cells": [
  {
   "cell_type": "code",
   "execution_count": 147,
   "metadata": {},
   "outputs": [],
   "source": [
    "import numpy as np\n",
    "import tensorflow as tf\n",
    "import pandas as pd\n",
    "import matplotlib.pyplot as plt\n",
    "\n",
    "from sklearn.linear_model import LogisticRegression\n",
    "from sklearn.tree import DecisionTreeClassifier\n",
    "from sklearn.svm import SVC\n",
    "from sklearn.neural_network import MLPClassifier\n",
    "from sklearn.ensemble import RandomForestClassifier\n",
    "\n",
    "from sklearn.model_selection import train_test_split\n",
    "from sklearn.model_selection import cross_val_score\n",
    "from sklearn.model_selection import GridSearchCV\n",
    "from sklearn.model_selection import RandomizedSearchCV\n",
    "\n",
    "from sklearn.metrics import roc_curve\n",
    "from sklearn.metrics import roc_auc_score\n",
    "from sklearn.metrics import confusion_matrix\n",
    "from sklearn.metrics import precision_score\n",
    "from sklearn.metrics import recall_score\n",
    "from sklearn.metrics import f1_score\n",
    "from sklearn.metrics import accuracy_score\n",
    "from sklearn.metrics import precision_recall_curve\n",
    "from sklearn.preprocessing import MinMaxScaler\n",
    "from imblearn.over_sampling import RandomOverSampler\n",
    "from imblearn.under_sampling import RandomUnderSampler\n",
    "from imblearn.over_sampling import SMOTE\n",
    "\n",
    "import pickle"
   ]
  },
  {
   "cell_type": "code",
   "execution_count": 148,
   "metadata": {},
   "outputs": [],
   "source": [
    "import warnings\n",
    "warnings.filterwarnings(\"ignore\")"
   ]
  },
  {
   "cell_type": "code",
   "execution_count": 149,
   "metadata": {},
   "outputs": [],
   "source": [
    "trained_data = \"train.csv\"\n",
    "test_data = \"test.csv\""
   ]
  },
  {
   "cell_type": "code",
   "execution_count": 150,
   "metadata": {},
   "outputs": [],
   "source": [
    "data_raw_trained = pd.read_csv(trained_data,header=0,sep=',',na_values='unknown')\n",
    "data_raw_trained['Loan_Status'].replace('N', 0, inplace=True)\n",
    "data_raw_trained['Loan_Status'].replace('Y', 1, inplace=True)\n",
    "\n",
    "data_raw_test = pd.read_csv(test_data,header=0,sep=',',na_values='unknown')\n",
    "loanID = data_raw_test.dropna().Loan_ID"
   ]
  },
  {
   "cell_type": "markdown",
   "metadata": {},
   "source": [
    "## Data preparation"
   ]
  },
  {
   "cell_type": "code",
   "execution_count": 188,
   "metadata": {},
   "outputs": [],
   "source": [
    "def preprocessing(data):\n",
    "    data_raw_trained_clean = data.copy().drop('Loan_ID',axis=1)\n",
    "    # Seperate between categorical and numerical data\n",
    "    clean_data_obj = data_raw_trained_clean.select_dtypes(include=['object'])\n",
    "    clean_data_num = data_raw_trained_clean.select_dtypes(exclude=['object']) \n",
    "    # One-hot categorical data\n",
    "    clean_data_obj = pd.get_dummies(clean_data_obj,drop_first=True)\n",
    "    scaler = MinMaxScaler()\n",
    "    scaler.fit(clean_data_num)\n",
    "    clean_data_num = pd.DataFrame(scaler.transform(clean_data_num),columns=clean_data_num.keys())\n",
    "    data_raw_trained_clean = clean_data_num.join(clean_data_obj)\n",
    "    return data_raw_trained_clean"
   ]
  },
  {
   "cell_type": "code",
   "execution_count": 189,
   "metadata": {},
   "outputs": [],
   "source": [
    "train_x,test_x,train_y,test_y = train_test_split(features,label, test_size=0.33, random_state=42)"
   ]
  },
  {
   "cell_type": "code",
   "execution_count": 190,
   "metadata": {},
   "outputs": [
    {
     "name": "stdout",
     "output_type": "stream",
     "text": [
      "Logistic Regression model's average AUC: 0.7424\n"
     ]
    }
   ],
   "source": [
    "# Logistic Regression\n",
    "lr_clf = LogisticRegression()\n",
    "scores = cross_val_score(lr_clf,train_x,train_y,cv=3,scoring='roc_auc')\n",
    "\n",
    "print(f\"Logistic Regression model's average AUC: {scores.mean():.4f}\")"
   ]
  },
  {
   "cell_type": "code",
   "execution_count": 191,
   "metadata": {},
   "outputs": [
    {
     "name": "stdout",
     "output_type": "stream",
     "text": [
      "Tree Classifer model's average AUC: 0.6744\n"
     ]
    }
   ],
   "source": [
    "# Decision Tree\n",
    "tree_clf = DecisionTreeClassifier()\n",
    "scores = cross_val_score(tree_clf,train_x,train_y,cv=10,scoring='roc_auc')\n",
    "\n",
    "print(f\"Tree Classifer model's average AUC: {scores.mean():.4f}\")"
   ]
  },
  {
   "cell_type": "code",
   "execution_count": 192,
   "metadata": {},
   "outputs": [
    {
     "name": "stdout",
     "output_type": "stream",
     "text": [
      "SVM Classfier model's average AUC: 0.7263\n"
     ]
    }
   ],
   "source": [
    "# SVM\n",
    "svm_clf = SVC()\n",
    "scores = cross_val_score(svm_clf,train_x,train_y,cv=10,scoring='roc_auc')\n",
    "\n",
    "print(f\"SVM Classfier model's average AUC: {scores.mean():.4f}\")"
   ]
  },
  {
   "cell_type": "code",
   "execution_count": 193,
   "metadata": {},
   "outputs": [
    {
     "name": "stdout",
     "output_type": "stream",
     "text": [
      "XG Classfier model's average AUC: 0.7311\n"
     ]
    }
   ],
   "source": [
    "# XGBClassifier\n",
    "xg_clf = XGBClassifier()\n",
    "scores = cross_val_score(xg_clf,train_x,train_y,cv=10,scoring='roc_auc')\n",
    "\n",
    "print(f\"XG Classfier model's average AUC: {scores.mean():.4f}\")"
   ]
  },
  {
   "cell_type": "markdown",
   "metadata": {},
   "source": [
    "## Selected Model Evaluation "
   ]
  },
  {
   "cell_type": "code",
   "execution_count": 194,
   "metadata": {},
   "outputs": [],
   "source": [
    "def eval_matrics(pred_class_y,pred_prob_y,label_y,model_name='Model'):\n",
    "    # Matrics\n",
    "    auc = roc_auc_score(label_y,pred_prob_y[:,1])\n",
    "    print(f'{model_name} AUC is {auc:.4f}')\n",
    "    acc = accuracy_score(label_y,pred_class_y)\n",
    "    print(f'{model_name} Accuracy is {acc:.4f}')\n",
    "    precision = precision_score(label_y,pred_class_y)\n",
    "    print(f'{model_name} precision is {precision:.4f}')\n",
    "    recall = recall_score(label_y,pred_class_y)\n",
    "    print(f'{model_name} recall is {recall:.4f}')\n",
    "    f1 = f1_score(label_y,pred_class_y)\n",
    "    print(f'{model_name} f1-score is {f1:.4f}')\n",
    "    # Confusion Matrix\n",
    "    print(f'Confusion Matrix of {model_name}:')\n",
    "    print(confusion_matrix(label_y,pred_class_y))\n",
    "    return    "
   ]
  },
  {
   "cell_type": "code",
   "execution_count": 195,
   "metadata": {},
   "outputs": [
    {
     "name": "stdout",
     "output_type": "stream",
     "text": [
      "Logistic Regression Model AUC is 0.7956\n",
      "Logistic Regression Model Accuracy is 0.8171\n",
      "Logistic Regression Model precision is 0.7959\n",
      "Logistic Regression Model recall is 0.9832\n",
      "Logistic Regression Model f1-score is 0.8797\n",
      "Confusion Matrix of Logistic Regression Model:\n",
      "[[ 26  30]\n",
      " [  2 117]]\n"
     ]
    }
   ],
   "source": [
    "# LogisticRegression\n",
    "lr_clf = LogisticRegression().fit(train_x,train_y)\n",
    "pred_class_y = lr_clf.predict(test_x)\n",
    "pred_prob_y = lr_clf.predict_proba(test_x)\n",
    "# Evaluate\n",
    "eval_matrics(pred_class_y,pred_prob_y,test_y,'Logistic Regression Model')\n"
   ]
  },
  {
   "cell_type": "code",
   "execution_count": 196,
   "metadata": {},
   "outputs": [],
   "source": [
    "fpr_lr_base, tpr_lr_base ,_= roc_curve(test_y, pred_prob_y[:,1])"
   ]
  },
  {
   "cell_type": "code",
   "execution_count": 197,
   "metadata": {},
   "outputs": [
    {
     "name": "stdout",
     "output_type": "stream",
     "text": [
      "XGBClassifier Model AUC is 0.7756\n",
      "XGBClassifier Model Accuracy is 0.8000\n",
      "XGBClassifier Model precision is 0.7958\n",
      "XGBClassifier Model recall is 0.9496\n",
      "XGBClassifier Model f1-score is 0.8659\n",
      "Confusion Matrix of XGBClassifier Model:\n",
      "[[ 27  29]\n",
      " [  6 113]]\n"
     ]
    }
   ],
   "source": [
    "# XGBClassifier\n",
    "xg_clf = XGBClassifier().fit(train_x,train_y)\n",
    "pred_class_y = xg_clf.predict(test_x)\n",
    "pred_prob_y = xg_clf.predict_proba(test_x)\n",
    "# Evaluate\n",
    "eval_matrics(pred_class_y,pred_prob_y,test_y,'XGBClassifier Model')"
   ]
  },
  {
   "cell_type": "code",
   "execution_count": 198,
   "metadata": {},
   "outputs": [],
   "source": [
    "# Calculate fpr,and tpr for future ROC ploting\n",
    "fpr_xg_base, tpr_xg_base ,_= roc_curve(test_y, pred_prob_y[:,1])"
   ]
  },
  {
   "cell_type": "code",
   "execution_count": 199,
   "metadata": {},
   "outputs": [
    {
     "data": {
      "image/png": "[encoded data removed]",
      "text/plain": [
       "<Figure size 432x288 with 1 Axes>"
      ]
     },
     "metadata": {
      "needs_background": "light"
     },
     "output_type": "display_data"
    }
   ],
   "source": [
    "\n",
    "plt.plot(fpr_lr_base, tpr_lr_base ,linewidth=2, label='LR')\n",
    "plt.plot(fpr_xg_base, tpr_xg_base ,linewidth=2, label='XG')\n",
    "plt.plot([0,1],[0,1],'k--')\n",
    "plt.axis([0,1,0,1])\n",
    "plt.legend()\n",
    "plt.xlabel('False Positive Rate')\n",
    "plt.ylabel('True Positive Rate')\n",
    "plt.title('ROC of Baseline Models')\n",
    "plt.show()"
   ]
  },
  {
   "cell_type": "markdown",
   "metadata": {},
   "source": [
    "## Gridsearch"
   ]
  },
  {
   "cell_type": "code",
   "execution_count": 200,
   "metadata": {},
   "outputs": [
    {
     "name": "stdout",
     "output_type": "stream",
     "text": [
      "Fitting 10 folds for each of 96 candidates, totalling 960 fits\n"
     ]
    },
    {
     "name": "stderr",
     "output_type": "stream",
     "text": [
      "[Parallel(n_jobs=10)]: Using backend LokyBackend with 10 concurrent workers.\n",
      "[Parallel(n_jobs=10)]: Done  30 tasks      | elapsed:    2.2s\n",
      "[Parallel(n_jobs=10)]: Done 286 tasks      | elapsed:    6.7s\n",
      "[Parallel(n_jobs=10)]: Done 786 tasks      | elapsed:   15.2s\n",
      "[Parallel(n_jobs=10)]: Done 960 out of 960 | elapsed:   18.6s finished\n"
     ]
    },
    {
     "data": {
      "text/plain": [
       "GridSearchCV(cv=10, error_score='raise-deprecating',\n",
       "       estimator=XGBClassifier(base_score=0.5, booster='gbtree', colsample_bylevel=1,\n",
       "       colsample_bytree=1, gamma=0, learning_rate=0.1, max_delta_step=0,\n",
       "       max_depth=3, min_child_weight=1, missing=None, n_estimators=100,\n",
       "       n_jobs=1, nthread=4, objective='binary:logistic', random_state=0,\n",
       "       reg_alpha=0, reg_lambda=1, scale_pos_weight=1, seed=42, silent=True,\n",
       "       subsample=1),\n",
       "       fit_params=None, iid='warn', n_jobs=10,\n",
       "       param_grid={'max_depth': range(2, 10), 'n_estimators': range(60, 220, 40), 'learning_rate': [0.1, 0.01, 0.05]},\n",
       "       pre_dispatch='2*n_jobs', refit=True, return_train_score='warn',\n",
       "       scoring='roc_auc', verbose=True)"
      ]
     },
     "execution_count": 200,
     "metadata": {},
     "output_type": "execute_result"
    }
   ],
   "source": [
    "estimator = XGBClassifier(\n",
    "    objective= 'binary:logistic',\n",
    "    nthread=4,\n",
    "    seed=42\n",
    ")\n",
    "parameters = {\n",
    "    'max_depth': range (2, 10, 1),\n",
    "    'n_estimators': range(60, 220, 40),\n",
    "    'learning_rate': [0.1, 0.01, 0.05]\n",
    "}\n",
    "grid_search = GridSearchCV(\n",
    "    estimator=estimator,\n",
    "    param_grid=parameters,\n",
    "    scoring = 'roc_auc',\n",
    "    n_jobs = 10,\n",
    "    cv = 10,\n",
    "    verbose=True\n",
    ")\n",
    "grid_search.fit(train_x,train_y)\n"
   ]
  },
  {
   "cell_type": "code",
   "execution_count": 201,
   "metadata": {},
   "outputs": [
    {
     "data": {
      "text/plain": [
       "XGBClassifier(base_score=0.5, booster='gbtree', colsample_bylevel=1,\n",
       "       colsample_bytree=1, gamma=0, learning_rate=0.01, max_delta_step=0,\n",
       "       max_depth=2, min_child_weight=1, missing=None, n_estimators=140,\n",
       "       n_jobs=1, nthread=4, objective='binary:logistic', random_state=0,\n",
       "       reg_alpha=0, reg_lambda=1, scale_pos_weight=1, seed=42, silent=True,\n",
       "       subsample=1)"
      ]
     },
     "execution_count": 201,
     "metadata": {},
     "output_type": "execute_result"
    }
   ],
   "source": [
    "grid_search.best_estimator_"
   ]
  },
  {
   "cell_type": "code",
   "execution_count": 202,
   "metadata": {},
   "outputs": [
    {
     "name": "stdout",
     "output_type": "stream",
     "text": [
      "Tuned LR Model AUC is 0.7956\n",
      "Tuned LR Model Accuracy is 0.8171\n",
      "Tuned LR Model precision is 0.7959\n",
      "Tuned LR Model recall is 0.9832\n",
      "Tuned LR Model f1-score is 0.8797\n",
      "Confusion Matrix of Tuned LR Model:\n",
      "[[ 26  30]\n",
      " [  2 117]]\n"
     ]
    }
   ],
   "source": [
    "xg_clf = XGBClassifier(silent=False, \n",
    "                      scale_pos_weight=1,\n",
    "                      learning_rate=0.01,  \n",
    "                      colsample_bytree = 1,\n",
    "                      subsample = 1,\n",
    "                      objective='binary:logistic', \n",
    "                      n_estimators=140, \n",
    "                      reg_alpha = 0.3,\n",
    "                      max_depth=4, \n",
    "                      gamma=0)\n",
    "pred_class_y = lr_clf.predict(test_x)\n",
    "pred_prob_y = lr_clf.predict_proba(test_x)\n",
    "eval_matrics(pred_class_y,pred_prob_y,test_y,'Tuned LR Model')"
   ]
  },
  {
   "cell_type": "code",
   "execution_count": 203,
   "metadata": {},
   "outputs": [
    {
     "data": {
      "text/plain": [
       "XGBClassifier(base_score=0.5, booster='gbtree', colsample_bylevel=1,\n",
       "       colsample_bytree=1, gamma=0, learning_rate=0.1, max_delta_step=0,\n",
       "       max_depth=3, min_child_weight=1, missing=None, n_estimators=100,\n",
       "       n_jobs=1, nthread=None, objective='binary:logistic', random_state=0,\n",
       "       reg_alpha=0, reg_lambda=1, scale_pos_weight=1, seed=None,\n",
       "       silent=True, subsample=1)"
      ]
     },
     "execution_count": 203,
     "metadata": {},
     "output_type": "execute_result"
    }
   ],
   "source": [
    "from sklearn.model_selection import train_test_split\n",
    "data_raw_trained_clean = preprocessing(data_raw_trained)\n",
    "data_raw_test_clean = preprocessing(data_raw_test)\n",
    "features = data_raw_trained_clean.dropna().drop('Loan_Status',axis=1)\n",
    "label = data_raw_trained_clean.dropna().Loan_Status\n",
    "\n",
    "model = XGBClassifier()\n",
    "model.fit(features, label)\n",
    "\n"
   ]
  },
  {
   "cell_type": "code",
   "execution_count": 204,
   "metadata": {},
   "outputs": [],
   "source": [
    "y_pred = model.predict(data_raw_test_clean)"
   ]
  },
  {
   "cell_type": "code",
   "execution_count": 208,
   "metadata": {},
   "outputs": [],
   "source": [
    "df = pd.DataFrame(y_pred)\n",
    "df.to_csv(r'status.csv')\n",
    "# col_names =  ['Loan_Status']\n",
    "# result_df  = pd.DataFrame(columns = col_names)\n",
    "# result_df['Loan_Status'] = "
   ]
  },
  {
   "cell_type": "code",
   "execution_count": 207,
   "metadata": {},
   "outputs": [
    {
     "data": {
      "text/html": [
       "<div>\n",
       "<style scoped>\n",
       "    .dataframe tbody tr th:only-of-type {\n",
       "        vertical-align: middle;\n",
       "    }\n",
       "\n",
       "    .dataframe tbody tr th {\n",
       "        vertical-align: top;\n",
       "    }\n",
       "\n",
       "    .dataframe thead th {\n",
       "        text-align: right;\n",
       "    }\n",
       "</style>\n",
       "<table border=\"1\" class=\"dataframe\">\n",
       "  <thead>\n",
       "    <tr style=\"text-align: right;\">\n",
       "      <th></th>\n",
       "      <th>0</th>\n",
       "    </tr>\n",
       "  </thead>\n",
       "  <tbody>\n",
       "    <tr>\n",
       "      <th>0</th>\n",
       "      <td>1.0</td>\n",
       "    </tr>\n",
       "    <tr>\n",
       "      <th>1</th>\n",
       "      <td>1.0</td>\n",
       "    </tr>\n",
       "    <tr>\n",
       "      <th>2</th>\n",
       "      <td>1.0</td>\n",
       "    </tr>\n",
       "    <tr>\n",
       "      <th>3</th>\n",
       "      <td>0.0</td>\n",
       "    </tr>\n",
       "    <tr>\n",
       "      <th>4</th>\n",
       "      <td>0.0</td>\n",
       "    </tr>\n",
       "    <tr>\n",
       "      <th>5</th>\n",
       "      <td>1.0</td>\n",
       "    </tr>\n",
       "    <tr>\n",
       "      <th>6</th>\n",
       "      <td>1.0</td>\n",
       "    </tr>\n",
       "    <tr>\n",
       "      <th>7</th>\n",
       "      <td>0.0</td>\n",
       "    </tr>\n",
       "    <tr>\n",
       "      <th>8</th>\n",
       "      <td>1.0</td>\n",
       "    </tr>\n",
       "    <tr>\n",
       "      <th>9</th>\n",
       "      <td>1.0</td>\n",
       "    </tr>\n",
       "    <tr>\n",
       "      <th>10</th>\n",
       "      <td>0.0</td>\n",
       "    </tr>\n",
       "    <tr>\n",
       "      <th>11</th>\n",
       "      <td>1.0</td>\n",
       "    </tr>\n",
       "    <tr>\n",
       "      <th>12</th>\n",
       "      <td>1.0</td>\n",
       "    </tr>\n",
       "    <tr>\n",
       "      <th>13</th>\n",
       "      <td>0.0</td>\n",
       "    </tr>\n",
       "    <tr>\n",
       "      <th>14</th>\n",
       "      <td>1.0</td>\n",
       "    </tr>\n",
       "    <tr>\n",
       "      <th>15</th>\n",
       "      <td>1.0</td>\n",
       "    </tr>\n",
       "    <tr>\n",
       "      <th>16</th>\n",
       "      <td>1.0</td>\n",
       "    </tr>\n",
       "    <tr>\n",
       "      <th>17</th>\n",
       "      <td>1.0</td>\n",
       "    </tr>\n",
       "    <tr>\n",
       "      <th>18</th>\n",
       "      <td>0.0</td>\n",
       "    </tr>\n",
       "    <tr>\n",
       "      <th>19</th>\n",
       "      <td>1.0</td>\n",
       "    </tr>\n",
       "    <tr>\n",
       "      <th>20</th>\n",
       "      <td>1.0</td>\n",
       "    </tr>\n",
       "    <tr>\n",
       "      <th>21</th>\n",
       "      <td>1.0</td>\n",
       "    </tr>\n",
       "    <tr>\n",
       "      <th>22</th>\n",
       "      <td>1.0</td>\n",
       "    </tr>\n",
       "    <tr>\n",
       "      <th>23</th>\n",
       "      <td>1.0</td>\n",
       "    </tr>\n",
       "    <tr>\n",
       "      <th>24</th>\n",
       "      <td>1.0</td>\n",
       "    </tr>\n",
       "    <tr>\n",
       "      <th>25</th>\n",
       "      <td>0.0</td>\n",
       "    </tr>\n",
       "    <tr>\n",
       "      <th>26</th>\n",
       "      <td>0.0</td>\n",
       "    </tr>\n",
       "    <tr>\n",
       "      <th>27</th>\n",
       "      <td>1.0</td>\n",
       "    </tr>\n",
       "    <tr>\n",
       "      <th>28</th>\n",
       "      <td>0.0</td>\n",
       "    </tr>\n",
       "    <tr>\n",
       "      <th>29</th>\n",
       "      <td>1.0</td>\n",
       "    </tr>\n",
       "    <tr>\n",
       "      <th>...</th>\n",
       "      <td>...</td>\n",
       "    </tr>\n",
       "    <tr>\n",
       "      <th>337</th>\n",
       "      <td>1.0</td>\n",
       "    </tr>\n",
       "    <tr>\n",
       "      <th>338</th>\n",
       "      <td>1.0</td>\n",
       "    </tr>\n",
       "    <tr>\n",
       "      <th>339</th>\n",
       "      <td>0.0</td>\n",
       "    </tr>\n",
       "    <tr>\n",
       "      <th>340</th>\n",
       "      <td>1.0</td>\n",
       "    </tr>\n",
       "    <tr>\n",
       "      <th>341</th>\n",
       "      <td>1.0</td>\n",
       "    </tr>\n",
       "    <tr>\n",
       "      <th>342</th>\n",
       "      <td>1.0</td>\n",
       "    </tr>\n",
       "    <tr>\n",
       "      <th>343</th>\n",
       "      <td>1.0</td>\n",
       "    </tr>\n",
       "    <tr>\n",
       "      <th>344</th>\n",
       "      <td>1.0</td>\n",
       "    </tr>\n",
       "    <tr>\n",
       "      <th>345</th>\n",
       "      <td>1.0</td>\n",
       "    </tr>\n",
       "    <tr>\n",
       "      <th>346</th>\n",
       "      <td>0.0</td>\n",
       "    </tr>\n",
       "    <tr>\n",
       "      <th>347</th>\n",
       "      <td>0.0</td>\n",
       "    </tr>\n",
       "    <tr>\n",
       "      <th>348</th>\n",
       "      <td>1.0</td>\n",
       "    </tr>\n",
       "    <tr>\n",
       "      <th>349</th>\n",
       "      <td>1.0</td>\n",
       "    </tr>\n",
       "    <tr>\n",
       "      <th>350</th>\n",
       "      <td>1.0</td>\n",
       "    </tr>\n",
       "    <tr>\n",
       "      <th>351</th>\n",
       "      <td>0.0</td>\n",
       "    </tr>\n",
       "    <tr>\n",
       "      <th>352</th>\n",
       "      <td>1.0</td>\n",
       "    </tr>\n",
       "    <tr>\n",
       "      <th>353</th>\n",
       "      <td>1.0</td>\n",
       "    </tr>\n",
       "    <tr>\n",
       "      <th>354</th>\n",
       "      <td>0.0</td>\n",
       "    </tr>\n",
       "    <tr>\n",
       "      <th>355</th>\n",
       "      <td>1.0</td>\n",
       "    </tr>\n",
       "    <tr>\n",
       "      <th>356</th>\n",
       "      <td>1.0</td>\n",
       "    </tr>\n",
       "    <tr>\n",
       "      <th>357</th>\n",
       "      <td>1.0</td>\n",
       "    </tr>\n",
       "    <tr>\n",
       "      <th>358</th>\n",
       "      <td>0.0</td>\n",
       "    </tr>\n",
       "    <tr>\n",
       "      <th>359</th>\n",
       "      <td>1.0</td>\n",
       "    </tr>\n",
       "    <tr>\n",
       "      <th>360</th>\n",
       "      <td>0.0</td>\n",
       "    </tr>\n",
       "    <tr>\n",
       "      <th>361</th>\n",
       "      <td>1.0</td>\n",
       "    </tr>\n",
       "    <tr>\n",
       "      <th>362</th>\n",
       "      <td>1.0</td>\n",
       "    </tr>\n",
       "    <tr>\n",
       "      <th>363</th>\n",
       "      <td>1.0</td>\n",
       "    </tr>\n",
       "    <tr>\n",
       "      <th>364</th>\n",
       "      <td>0.0</td>\n",
       "    </tr>\n",
       "    <tr>\n",
       "      <th>365</th>\n",
       "      <td>1.0</td>\n",
       "    </tr>\n",
       "    <tr>\n",
       "      <th>366</th>\n",
       "      <td>1.0</td>\n",
       "    </tr>\n",
       "  </tbody>\n",
       "</table>\n",
       "<p>367 rows × 1 columns</p>\n",
       "</div>"
      ],
      "text/plain": [
       "       0\n",
       "0    1.0\n",
       "1    1.0\n",
       "2    1.0\n",
       "3    0.0\n",
       "4    0.0\n",
       "5    1.0\n",
       "6    1.0\n",
       "7    0.0\n",
       "8    1.0\n",
       "9    1.0\n",
       "10   0.0\n",
       "11   1.0\n",
       "12   1.0\n",
       "13   0.0\n",
       "14   1.0\n",
       "15   1.0\n",
       "16   1.0\n",
       "17   1.0\n",
       "18   0.0\n",
       "19   1.0\n",
       "20   1.0\n",
       "21   1.0\n",
       "22   1.0\n",
       "23   1.0\n",
       "24   1.0\n",
       "25   0.0\n",
       "26   0.0\n",
       "27   1.0\n",
       "28   0.0\n",
       "29   1.0\n",
       "..   ...\n",
       "337  1.0\n",
       "338  1.0\n",
       "339  0.0\n",
       "340  1.0\n",
       "341  1.0\n",
       "342  1.0\n",
       "343  1.0\n",
       "344  1.0\n",
       "345  1.0\n",
       "346  0.0\n",
       "347  0.0\n",
       "348  1.0\n",
       "349  1.0\n",
       "350  1.0\n",
       "351  0.0\n",
       "352  1.0\n",
       "353  1.0\n",
       "354  0.0\n",
       "355  1.0\n",
       "356  1.0\n",
       "357  1.0\n",
       "358  0.0\n",
       "359  1.0\n",
       "360  0.0\n",
       "361  1.0\n",
       "362  1.0\n",
       "363  1.0\n",
       "364  0.0\n",
       "365  1.0\n",
       "366  1.0\n",
       "\n",
       "[367 rows x 1 columns]"
      ]
     },
     "execution_count": 207,
     "metadata": {},
     "output_type": "execute_result"
    }
   ],
   "source": []
  },
  {
   "cell_type": "code",
   "execution_count": null,
   "metadata": {},
   "outputs": [],
   "source": []
  }
 ],
 "metadata": {
  "kernelspec": {
   "display_name": "Python 3",
   "language": "python",
   "name": "python3"
  },
  "language_info": {
   "codemirror_mode": {
    "name": "ipython",
    "version": 3
   },
   "file_extension": ".py",
   "mimetype": "text/x-python",
   "name": "python",
   "nbconvert_exporter": "python",
   "pygments_lexer": "ipython3",
   "version": "3.7.0"
  }
 },
 "nbformat": 4,
 "nbformat_minor": 2
}
