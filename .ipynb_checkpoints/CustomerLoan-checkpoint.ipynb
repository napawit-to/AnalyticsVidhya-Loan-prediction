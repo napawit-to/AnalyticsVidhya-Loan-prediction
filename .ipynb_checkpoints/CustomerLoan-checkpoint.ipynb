{
 "cells": [
  {
   "cell_type": "code",
   "execution_count": 279,
   "metadata": {},
   "outputs": [],
   "source": [
    "import numpy as np\n",
    "import tensorflow as tf\n",
    "import pandas as pd\n",
    "import matplotlib.pyplot as plt\n",
    "\n",
    "from sklearn.linear_model import LogisticRegression\n",
    "from sklearn.tree import DecisionTreeClassifier\n",
    "from sklearn.svm import SVC\n",
    "from sklearn.neural_network import MLPClassifier\n",
    "from sklearn.ensemble import RandomForestClassifier\n",
    "\n",
    "from sklearn.model_selection import train_test_split\n",
    "from sklearn.model_selection import cross_val_score\n",
    "from sklearn.model_selection import GridSearchCV\n",
    "from sklearn.model_selection import RandomizedSearchCV\n",
    "\n",
    "from sklearn.metrics import roc_curve\n",
    "from sklearn.metrics import roc_auc_score\n",
    "from sklearn.metrics import confusion_matrix\n",
    "from sklearn.metrics import precision_score\n",
    "from sklearn.metrics import recall_score\n",
    "from sklearn.metrics import f1_score\n",
    "from sklearn.metrics import accuracy_score\n",
    "from sklearn.metrics import precision_recall_curve\n",
    "from sklearn.preprocessing import MinMaxScaler\n",
    "from imblearn.over_sampling import RandomOverSampler\n",
    "from imblearn.under_sampling import RandomUnderSampler\n",
    "from imblearn.over_sampling import SMOTE\n",
    "from xgboost import XGBClassifier\n",
    "import pickle"
   ]
  },
  {
   "cell_type": "code",
   "execution_count": 280,
   "metadata": {},
   "outputs": [],
   "source": [
    "import warnings\n",
    "warnings.filterwarnings(\"ignore\")"
   ]
  },
  {
   "cell_type": "code",
   "execution_count": 281,
   "metadata": {},
   "outputs": [],
   "source": [
    "trained_data = \"train.csv\"\n",
    "test_data = \"test.csv\""
   ]
  },
  {
   "cell_type": "code",
   "execution_count": 282,
   "metadata": {},
   "outputs": [],
   "source": [
    "data_raw_trained = pd.read_csv(trained_data,header=0,sep=',',na_values='unknown')\n",
    "data_raw_trained['Loan_Status'].replace('N', 0, inplace=True)\n",
    "data_raw_trained['Loan_Status'].replace('Y', 1, inplace=True)"
   ]
  },
  {
   "cell_type": "code",
   "execution_count": 283,
   "metadata": {},
   "outputs": [
    {
     "data": {
      "text/plain": [
       "(614, 13)"
      ]
     },
     "execution_count": 283,
     "metadata": {},
     "output_type": "execute_result"
    }
   ],
   "source": [
    "data_raw_trained.shape"
   ]
  },
  {
   "cell_type": "markdown",
   "metadata": {},
   "source": [
    "## Data preparation"
   ]
  },
  {
   "cell_type": "code",
   "execution_count": 284,
   "metadata": {},
   "outputs": [],
   "source": [
    "def preprocessingtrained(data):\n",
    "    data_raw_trained_clean = data.copy().drop('Loan_ID',axis=1)\n",
    "    # Seperate between categorical and numerical data\n",
    "    clean_data_obj = data_raw_trained_clean.select_dtypes(include=['object'])\n",
    "    clean_data_num = data_raw_trained_clean.select_dtypes(exclude=['object']) \n",
    "    # One-hot categorical data\n",
    "    clean_data_obj = pd.get_dummies(clean_data_obj,drop_first=True)\n",
    "    scaler = MinMaxScaler()\n",
    "    scaler.fit(clean_data_num)\n",
    "    clean_data_num = pd.DataFrame(scaler.transform(clean_data_num),columns=clean_data_num.keys())\n",
    "    data_raw_clean = clean_data_num.join(clean_data_obj)\n",
    "    return data_raw_clean"
   ]
  },
  {
   "cell_type": "code",
   "execution_count": 285,
   "metadata": {},
   "outputs": [],
   "source": [
    "prep_data_trained = preprocessingtrained(data_raw_trained)\n",
    "features = prep_data_trained.dropna().drop('Loan_Status',axis=1)\n",
    "label = prep_data_trained.dropna().Loan_Status"
   ]
  },
  {
   "cell_type": "code",
   "execution_count": 286,
   "metadata": {},
   "outputs": [],
   "source": [
    "train_x,test_x,train_y,test_y = train_test_split(features,label, test_size=0.33, random_state=42)"
   ]
  },
  {
   "cell_type": "code",
   "execution_count": 287,
   "metadata": {},
   "outputs": [
    {
     "name": "stdout",
     "output_type": "stream",
     "text": [
      "Logistic Regression model's average AUC: 0.7424\n"
     ]
    }
   ],
   "source": [
    "# Logistic Regression\n",
    "lr_clf = LogisticRegression()\n",
    "scores = cross_val_score(lr_clf,train_x,train_y,cv=3,scoring='roc_auc')\n",
    "\n",
    "print(f\"Logistic Regression model's average AUC: {scores.mean():.4f}\")"
   ]
  },
  {
   "cell_type": "code",
   "execution_count": 288,
   "metadata": {},
   "outputs": [
    {
     "name": "stdout",
     "output_type": "stream",
     "text": [
      "Random Forest Classfier model's average AUC: 0.7452\n"
     ]
    }
   ],
   "source": [
    "# Random Forest\n",
    "rf_clf = RandomForestClassifier()\n",
    "scores = cross_val_score(rf_clf,train_x,train_y,cv=10,scoring='roc_auc')\n",
    "\n",
    "print(f\"Random Forest Classfier model's average AUC: {scores.mean():.4f}\")"
   ]
  },
  {
   "cell_type": "code",
   "execution_count": 289,
   "metadata": {},
   "outputs": [
    {
     "name": "stdout",
     "output_type": "stream",
     "text": [
      "Tree Classifer model's average AUC: 0.6539\n"
     ]
    }
   ],
   "source": [
    "# Decision Tree\n",
    "tree_clf = DecisionTreeClassifier()\n",
    "scores = cross_val_score(tree_clf,train_x,train_y,cv=10,scoring='roc_auc')\n",
    "\n",
    "print(f\"Tree Classifer model's average AUC: {scores.mean():.4f}\")"
   ]
  },
  {
   "cell_type": "code",
   "execution_count": 290,
   "metadata": {},
   "outputs": [
    {
     "name": "stdout",
     "output_type": "stream",
     "text": [
      "SVM Classfier model's average AUC: 0.7263\n"
     ]
    }
   ],
   "source": [
    "# SVM\n",
    "svm_clf = SVC()\n",
    "scores = cross_val_score(svm_clf,train_x,train_y,cv=10,scoring='roc_auc')\n",
    "\n",
    "print(f\"SVM Classfier model's average AUC: {scores.mean():.4f}\")"
   ]
  },
  {
   "cell_type": "code",
   "execution_count": 291,
   "metadata": {},
   "outputs": [
    {
     "name": "stdout",
     "output_type": "stream",
     "text": [
      "XG Classfier model's average AUC: 0.7311\n"
     ]
    }
   ],
   "source": [
    "# XGBClassifier\n",
    "xg_clf = XGBClassifier()\n",
    "scores = cross_val_score(xg_clf,train_x,train_y,cv=10,scoring='roc_auc')\n",
    "\n",
    "print(f\"XG Classfier model's average AUC: {scores.mean():.4f}\")"
   ]
  },
  {
   "cell_type": "markdown",
   "metadata": {},
   "source": [
    "## Selected Model Evaluation "
   ]
  },
  {
   "cell_type": "code",
   "execution_count": 292,
   "metadata": {},
   "outputs": [],
   "source": [
    "def eval_matrics(pred_class_y,pred_prob_y,label_y,model_name='Model'):\n",
    "    # Matrics\n",
    "    auc = roc_auc_score(label_y,pred_prob_y[:,1])\n",
    "    print(f'{model_name} AUC is {auc:.4f}')\n",
    "    acc = accuracy_score(label_y,pred_class_y)\n",
    "    print(f'{model_name} Accuracy is {acc:.4f}')\n",
    "    precision = precision_score(label_y,pred_class_y)\n",
    "    print(f'{model_name} precision is {precision:.4f}')\n",
    "    recall = recall_score(label_y,pred_class_y)\n",
    "    print(f'{model_name} recall is {recall:.4f}')\n",
    "    f1 = f1_score(label_y,pred_class_y)\n",
    "    print(f'{model_name} f1-score is {f1:.4f}')\n",
    "    # Confusion Matrix\n",
    "    print(f'Confusion Matrix of {model_name}:')\n",
    "    print(confusion_matrix(label_y,pred_class_y))\n",
    "    return    "
   ]
  },
  {
   "cell_type": "code",
   "execution_count": 293,
   "metadata": {},
   "outputs": [
    {
     "name": "stdout",
     "output_type": "stream",
     "text": [
      "Logistic Regression Model AUC is 0.7956\n",
      "Logistic Regression Model Accuracy is 0.8171\n",
      "Logistic Regression Model precision is 0.7959\n",
      "Logistic Regression Model recall is 0.9832\n",
      "Logistic Regression Model f1-score is 0.8797\n",
      "Confusion Matrix of Logistic Regression Model:\n",
      "[[ 26  30]\n",
      " [  2 117]]\n"
     ]
    }
   ],
   "source": [
    "# LogisticRegression\n",
    "lr_clf = LogisticRegression().fit(train_x,train_y)\n",
    "pred_class_y = lr_clf.predict(test_x)\n",
    "pred_prob_y = lr_clf.predict_proba(test_x)\n",
    "# Evaluate\n",
    "eval_matrics(pred_class_y,pred_prob_y,test_y,'Logistic Regression Model')"
   ]
  },
  {
   "cell_type": "code",
   "execution_count": 294,
   "metadata": {},
   "outputs": [
    {
     "data": {
      "text/plain": [
       "array([0., 0., 0., 1., 1., 1., 1., 1., 1., 1., 1., 0., 1., 1., 1., 1., 1.,\n",
       "       1., 1., 1., 1., 1., 0., 1., 1., 1., 1., 1., 1., 0., 1., 0., 1., 0.,\n",
       "       1., 1., 0., 1., 1., 1., 1., 1., 1., 1., 1., 1., 1., 0., 1., 1., 1.,\n",
       "       1., 1., 0., 1., 1., 1., 0., 0., 1., 0., 1., 1., 1., 1., 1., 1., 1.,\n",
       "       1., 1., 1., 1., 1., 1., 1., 1., 1., 1., 1., 1., 1., 1., 1., 1., 1.,\n",
       "       1., 1., 1., 1., 1., 1., 0., 1., 1., 0., 1., 1., 1., 1., 1., 1., 1.,\n",
       "       1., 1., 0., 1., 1., 1., 1., 1., 1., 1., 1., 1., 1., 1., 1., 0., 1.,\n",
       "       0., 1., 1., 1., 0., 1., 1., 1., 1., 1., 1., 0., 1., 1., 0., 0., 1.,\n",
       "       1., 0., 1., 0., 1., 1., 1., 1., 1., 1., 1., 1., 1., 1., 1., 1., 1.,\n",
       "       1., 1., 1., 1., 1., 0., 1., 0., 1., 1., 1., 1., 1., 0., 1., 1., 1.,\n",
       "       1., 1., 1., 1., 1.])"
      ]
     },
     "execution_count": 294,
     "metadata": {},
     "output_type": "execute_result"
    }
   ],
   "source": [
    "pred_class_y"
   ]
  },
  {
   "cell_type": "code",
   "execution_count": 194,
   "metadata": {},
   "outputs": [],
   "source": [
    "fpr_lr_base, tpr_lr_base ,_= roc_curve(test_y, pred_prob_y[:,1])"
   ]
  },
  {
   "cell_type": "code",
   "execution_count": 195,
   "metadata": {},
   "outputs": [
    {
     "name": "stdout",
     "output_type": "stream",
     "text": [
      "Random Forest Model AUC is 0.7383\n",
      "Random Forest Model Accuracy is 0.7600\n",
      "Random Forest Model precision is 0.7939\n",
      "Random Forest Model recall is 0.8739\n",
      "Random Forest Model f1-score is 0.8320\n",
      "Confusion Matrix of Random Forest Model:\n",
      "[[ 29  27]\n",
      " [ 15 104]]\n"
     ]
    }
   ],
   "source": [
    "# Fit and Predict\n",
    "rf_clf = RandomForestClassifier().fit(train_x,train_y)\n",
    "pred_class_y = rf_clf.predict(test_x)\n",
    "pred_prob_y = rf_clf.predict_proba(test_x)\n",
    "# Evaluate\n",
    "eval_matrics(pred_class_y,pred_prob_y,test_y,'Random Forest Model')"
   ]
  },
  {
   "cell_type": "code",
   "execution_count": 196,
   "metadata": {},
   "outputs": [],
   "source": [
    "# Calculate fpr,and tpr for future ROC ploting\n",
    "fpr_rf_base, tpr_rf_base ,_= roc_curve(test_y, pred_prob_y[:,1])"
   ]
  },
  {
   "cell_type": "code",
   "execution_count": 197,
   "metadata": {},
   "outputs": [
    {
     "data": {
      "image/png": "[encoded data removed]",
      "text/plain": [
       "<Figure size 432x288 with 1 Axes>"
      ]
     },
     "metadata": {
      "needs_background": "light"
     },
     "output_type": "display_data"
    }
   ],
   "source": [
    "\n",
    "plt.plot(fpr_lr_base, tpr_lr_base ,linewidth=2, label='LR')\n",
    "plt.plot(fpr_rf_base, tpr_rf_base ,linewidth=2, label='XG')\n",
    "plt.plot([0,1],[0,1],'k--')\n",
    "plt.axis([0,1,0,1])\n",
    "plt.legend()\n",
    "plt.xlabel('False Positive Rate')\n",
    "plt.ylabel('True Positive Rate')\n",
    "plt.title('ROC of Baseline Models')\n",
    "plt.show()"
   ]
  },
  {
   "cell_type": "markdown",
   "metadata": {},
   "source": [
    "## Gridsearch"
   ]
  },
  {
   "cell_type": "code",
   "execution_count": 198,
   "metadata": {},
   "outputs": [
    {
     "name": "stdout",
     "output_type": "stream",
     "text": [
      "Fitting 3 folds for each of 28 candidates, totalling 84 fits\n"
     ]
    },
    {
     "name": "stderr",
     "output_type": "stream",
     "text": [
      "[Parallel(n_jobs=1)]: Using backend SequentialBackend with 1 concurrent workers.\n",
      "[Parallel(n_jobs=1)]: Done  84 out of  84 | elapsed:    0.6s finished\n"
     ]
    },
    {
     "data": {
      "text/plain": [
       "GridSearchCV(cv=3, error_score='raise-deprecating',\n",
       "       estimator=LogisticRegression(C=1.0, class_weight=None, dual=False, fit_intercept=True,\n",
       "          intercept_scaling=1, max_iter=100, multi_class='warn',\n",
       "          n_jobs=None, penalty='l2', random_state=None, solver='warn',\n",
       "          tol=0.0001, verbose=0, warm_start=False),\n",
       "       fit_params=None, iid='warn', n_jobs=None,\n",
       "       param_grid={'penalty': ['l1', 'l2'], 'C': [0.001, 0.01, 0.1, 1, 10, 100, 1000], 'class_weight': [None, 'balanced']},\n",
       "       pre_dispatch='2*n_jobs', refit=True, return_train_score='warn',\n",
       "       scoring='roc_auc', verbose=1)"
      ]
     },
     "execution_count": 198,
     "metadata": {},
     "output_type": "execute_result"
    }
   ],
   "source": [
    "# Create Grid parameters\n",
    "# linear regularization type (penalty)\n",
    "penalty_type = ['l1','l2']\n",
    "\n",
    "# Inverse of regularization strength (C)\n",
    "reg_str = [0.001, 0.01, 0.1, 1, 10, 100, 1000] \n",
    "\n",
    "# Weights associated with classes (class_weight)\n",
    "cl_weight = [None, 'balanced']\n",
    "# cl_weight = [None, 'balanced',{0:1,1:2}]\n",
    "\n",
    "# Create the grid search parameters\n",
    "lr_param_grid = {'penalty':penalty_type,\n",
    "                  'C':reg_str,\n",
    "                  'class_weight':cl_weight}\n",
    "# Create a based model\n",
    "lr_clf = LogisticRegression()\n",
    "# Instantiate the grid search model\n",
    "lr_grid_search = GridSearchCV(estimator = lr_clf, param_grid = lr_param_grid, cv=3, scoring ='roc_auc',verbose=1)\n",
    "# Fit the grid search to the data\n",
    "lr_grid_search.fit(train_x,train_y)"
   ]
  },
  {
   "cell_type": "code",
   "execution_count": 71,
   "metadata": {},
   "outputs": [],
   "source": [
    "# Create Grid parameters\n",
    "# Number of trees in random forest\n",
    "n_estimators = [int(x) for x in np.linspace(start = 200, stop = 2000, num = 10)]\n",
    "# Number of features to consider at every split\n",
    "max_features = ['auto','sqrt']\n",
    "# Maximum number of levels in tree \n",
    "max_depth = [int(x) for x in np.linspace(start = 10, stop =100, num =10)]\n",
    "max_depth.append(None)\n",
    "# Minimum number of samples required to split a node\n",
    "min_samples_split = [2, 5, 10]\n",
    "# Minimum number of samples required at each leaf node\n",
    "min_samples_leaf = [1, 2, 4]\n",
    "# Method of selecting samples for training each tree\n",
    "bootstrap = [True, False]\n",
    "\n",
    "# Create the random grid\n",
    "rf_random_grid = {'n_estimators':n_estimators, \n",
    "                  'max_features':max_features,\n",
    "                  'max_depth':max_depth, \n",
    "                  'min_samples_split':min_samples_split,\n",
    "                  'min_samples_leaf':min_samples_leaf,\n",
    "                  'bootstrap':bootstrap}\n",
    "\n"
   ]
  },
  {
   "cell_type": "code",
   "execution_count": 72,
   "metadata": {},
   "outputs": [
    {
     "data": {
      "text/plain": [
       "RandomizedSearchCV(cv=3, error_score='raise-deprecating',\n",
       "          estimator=RandomForestClassifier(bootstrap=True, class_weight=None, criterion='gini',\n",
       "            max_depth=None, max_features='auto', max_leaf_nodes=None,\n",
       "            min_impurity_decrease=0.0, min_impurity_split=None,\n",
       "            min_samples_leaf=1, min_samples_split=2,\n",
       "            min_weight_fraction_leaf=0.0, n_estimators='warn', n_jobs=None,\n",
       "            oob_score=False, random_state=None, verbose=0,\n",
       "            warm_start=False),\n",
       "          fit_params=None, iid='warn', n_iter=20, n_jobs=None,\n",
       "          param_distributions={'n_estimators': [200, 400, 600, 800, 1000, 1200, 1400, 1600, 1800, 2000], 'max_features': ['auto', 'sqrt'], 'max_depth': [10, 20, 30, 40, 50, 60, 70, 80, 90, 100, None], 'min_samples_split': [2, 5, 10], 'min_samples_leaf': [1, 2, 4], 'bootstrap': [True, False]},\n",
       "          pre_dispatch='2*n_jobs', random_state=42, refit=True,\n",
       "          return_train_score='warn', scoring='roc_auc', verbose=0)"
      ]
     },
     "execution_count": 72,
     "metadata": {},
     "output_type": "execute_result"
    }
   ],
   "source": [
    "# Random Search Training\n",
    "# Create a based model\n",
    "rf = RandomForestClassifier()\n",
    "# Initiate a random search model \n",
    "rf_random = RandomizedSearchCV(estimator = rf, param_distributions = rf_random_grid, n_iter = 20, \n",
    "                              cv =3, random_state =42,scoring='roc_auc')\n",
    "# Fit the random search model\n",
    "rf_random.fit(train_x,train_y)"
   ]
  },
  {
   "cell_type": "markdown",
   "metadata": {},
   "source": [
    "## Evaluate Tuning Models"
   ]
  },
  {
   "cell_type": "code",
   "execution_count": 312,
   "metadata": {},
   "outputs": [
    {
     "data": {
      "text/plain": [
       "{'C': 0.01, 'class_weight': None, 'penalty': 'l2'}"
      ]
     },
     "execution_count": 312,
     "metadata": {},
     "output_type": "execute_result"
    }
   ],
   "source": [
    "lr_grid_search.best_params_"
   ]
  },
  {
   "cell_type": "code",
   "execution_count": 320,
   "metadata": {},
   "outputs": [
    {
     "name": "stdout",
     "output_type": "stream",
     "text": [
      "Tuned LR Model AUC is 0.7655\n",
      "Tuned LR Model Accuracy is 0.8171\n",
      "Tuned LR Model precision is 0.7959\n",
      "Tuned LR Model recall is 0.9832\n",
      "Tuned LR Model f1-score is 0.8797\n",
      "Confusion Matrix of Tuned LR Model:\n",
      "[[ 26  30]\n",
      " [  2 117]]\n"
     ]
    }
   ],
   "source": [
    "# Fit and Predict\n",
    "lr_clf = LogisticRegression(penalty='l2', C=0.01,class_weight='balanced').fit(train_x,train_y)\n",
    "pred_class_y = lr_clf.predict(test_x)\n",
    "pred_prob_y = lr_clf.predict_proba(test_x)\n",
    "# Evaluate\n",
    "eval_matrics(pred_class_y,pred_prob_y,test_y,'Tuned LR Model')"
   ]
  },
  {
   "cell_type": "code",
   "execution_count": 323,
   "metadata": {},
   "outputs": [],
   "source": [
    "fpr_lr_tuned, tpr_lr_tuned ,_= roc_curve(test_y, pred_prob_y[:,1])"
   ]
  },
  {
   "cell_type": "code",
   "execution_count": 324,
   "metadata": {},
   "outputs": [
    {
     "data": {
      "text/plain": [
       "{'n_estimators': 2000,\n",
       " 'min_samples_split': 2,\n",
       " 'min_samples_leaf': 1,\n",
       " 'max_features': 'auto',\n",
       " 'max_depth': 20,\n",
       " 'bootstrap': False}"
      ]
     },
     "execution_count": 324,
     "metadata": {},
     "output_type": "execute_result"
    }
   ],
   "source": [
    "rf_random.best_params_"
   ]
  },
  {
   "cell_type": "code",
   "execution_count": 203,
   "metadata": {},
   "outputs": [
    {
     "name": "stdout",
     "output_type": "stream",
     "text": [
      "Tuned RF Model AUC is 0.7601\n",
      "Tuned RF Model Accuracy is 0.7486\n",
      "Tuned RF Model precision is 0.7907\n",
      "Tuned RF Model recall is 0.8571\n",
      "Tuned RF Model f1-score is 0.8226\n",
      "Confusion Matrix of Tuned RF Model:\n",
      "[[ 29  27]\n",
      " [ 17 102]]\n"
     ]
    }
   ],
   "source": [
    "# Fit and Predict\n",
    "rf_clf = RandomForestClassifier(n_estimators=2000, bootstrap=False, \n",
    "                                  max_depth=20, max_features='auto', \n",
    "                                  min_samples_leaf=1, min_samples_split=2, \n",
    "                                 ).fit(train_x,train_y)\n",
    "pred_class_y = rf_clf.predict(test_x)\n",
    "pred_prob_y = rf_clf.predict_proba(test_x)\n",
    "# Evaluate\n",
    "eval_matrics(pred_class_y,pred_prob_y,test_y,'Tuned RF Model')"
   ]
  },
  {
   "cell_type": "code",
   "execution_count": 299,
   "metadata": {},
   "outputs": [],
   "source": [
    "# Calculate fpr,and tpr for future ROC ploting\n",
    "fpr_rf_tuned, tpr_rf_tuned ,_= roc_curve(test_y, pred_prob_y[:,1])"
   ]
  },
  {
   "cell_type": "markdown",
   "metadata": {},
   "source": [
    "#### Plot ROC of Tuning vs Base Models"
   ]
  },
  {
   "cell_type": "code",
   "execution_count": 300,
   "metadata": {},
   "outputs": [
    {
     "data": {
      "image/png": "[encoded data removed]",
      "text/plain": [
       "<Figure size 432x288 with 1 Axes>"
      ]
     },
     "metadata": {
      "needs_background": "light"
     },
     "output_type": "display_data"
    }
   ],
   "source": [
    "plt.plot(fpr_lr_base, tpr_lr_base, 'b--',linewidth=1, label='LR_based')\n",
    "plt.plot(fpr_lr_tuned, tpr_lr_tuned, 'b-',linewidth=2, label='LR_tuned')\n",
    "plt.plot(fpr_rf_base, tpr_rf_base, 'g--',linewidth=1, label='RF_based')\n",
    "plt.plot(fpr_rf_tuned, tpr_rf_tuned, 'g-',linewidth=2, label='RF_tuned')\n",
    "plt.plot([0,1],[0,1],'k--')\n",
    "plt.axis([0,1,0,1])\n",
    "plt.legend()\n",
    "plt.xlabel('False Positive Rate')\n",
    "plt.ylabel('True Positive Rate')\n",
    "plt.title('ROC of Tuning vs Base Models')\n",
    "plt.show()"
   ]
  },
  {
   "cell_type": "markdown",
   "metadata": {},
   "source": [
    "## Preprocessing test data"
   ]
  },
  {
   "cell_type": "code",
   "execution_count": 301,
   "metadata": {},
   "outputs": [],
   "source": [
    "data_raw_test = pd.read_csv(test_data,header=0,sep=',',na_values='unknown')\n"
   ]
  },
  {
   "cell_type": "code",
   "execution_count": 302,
   "metadata": {},
   "outputs": [],
   "source": [
    "def preprocessingtest(data):\n",
    "    data_raw_trained_clean = data.copy().drop('Loan_ID',axis=1)\n",
    "    # Seperate between categorical and numerical data\n",
    "    clean_data_obj_test = data_raw_trained_clean.select_dtypes(include=['object'])\n",
    "    clean_data_num_test = data_raw_trained_clean.select_dtypes(exclude=['object']) \n",
    "    # One-hot categorical data\n",
    "    clean_data_obj_test = pd.get_dummies(clean_data_obj_test,drop_first=True)\n",
    "    scaler = MinMaxScaler()\n",
    "    scaler.fit(clean_data_num_test)\n",
    "    clean_data_num_test = pd.DataFrame(scaler.transform(clean_data_num_test),columns=clean_data_num_test.keys())\n",
    "    data_raw_clean = clean_data_num_test.join(clean_data_obj_test)\n",
    "    return data_raw_test_clean"
   ]
  },
  {
   "cell_type": "code",
   "execution_count": 303,
   "metadata": {},
   "outputs": [],
   "source": [
    "data_raw_test_clean = preprocessingtest(data_raw_test)"
   ]
  },
  {
   "cell_type": "code",
   "execution_count": 304,
   "metadata": {},
   "outputs": [
    {
     "data": {
      "text/plain": [
       "<bound method DataFrame.corr of      ApplicantIncome  CoapplicantIncome  LoanAmount  Loan_Amount_Term  \\\n",
       "0           0.078865           0.000000    0.157088          0.746835   \n",
       "1           0.042411           0.062500    0.187739          0.746835   \n",
       "2           0.068938           0.075000    0.344828          0.746835   \n",
       "3           0.032263           0.106083    0.137931          0.746835   \n",
       "4           0.045168           0.000000    0.095785          0.746835   \n",
       "5           0.029850           0.142583    0.237548          0.746835   \n",
       "6           0.030691           0.000000    0.059387          0.746835   \n",
       "7           0.053510           0.000000    0.227969          0.746835   \n",
       "8           0.187966           0.000000    0.482759          0.493671   \n",
       "9           0.033090           0.100000    0.181992          0.746835   \n",
       "10          0.042617           0.000000    0.118774          0.746835   \n",
       "11          0.030126           0.063167    0.256705          0.746835   \n",
       "12          0.057439           0.000000    0.022989          0.367089   \n",
       "13          0.167836           0.000000    0.264368          0.746835   \n",
       "14          0.064333           0.000000    0.183908          0.746835   \n",
       "15          0.078134           0.000000    0.197318          0.746835   \n",
       "16          0.063189           0.121500    0.329502          0.746835   \n",
       "17          0.052200           0.013875    0.187739          0.746835   \n",
       "18          0.127204           0.329833    0.521073          0.746835   \n",
       "19          0.017924           0.144583    0.137931          0.367089   \n",
       "20          0.026031           0.067500    0.038314          0.746835   \n",
       "21          0.028720           0.000000    0.000000          0.367089   \n",
       "22          0.053896           0.000000    0.139847          0.746835   \n",
       "23          0.051910           0.000000    0.185824          0.746835   \n",
       "24          0.074453           0.182500    0.501916          0.746835   \n",
       "25          0.000000           1.000000    0.229885          0.746835   \n",
       "26          0.060155           0.052083    0.214559          0.746835   \n",
       "27          0.103407           0.156250    0.473180          0.746835   \n",
       "28          0.052007           0.034708    0.055556          0.746835   \n",
       "29          0.040563           0.099250    0.185824          0.367089   \n",
       "..               ...                ...         ...               ...   \n",
       "337         0.031601           0.064917    0.174330          0.746835   \n",
       "338         0.032539           0.139792    0.113027          0.493671   \n",
       "339         0.059742           0.097208    0.256705          0.746835   \n",
       "340         0.036165           0.201292    0.180077          0.367089   \n",
       "341         0.054764           0.178125    0.304598          0.746835   \n",
       "342         0.048560           0.000000    0.101533          0.367089   \n",
       "343         0.064802           0.000000    0.099617          0.746835   \n",
       "344         0.094555           0.000000    0.283525          0.746835   \n",
       "345         0.114906           0.000000    0.444444          0.746835   \n",
       "346         0.046754           0.081917    0.201149          0.746835   \n",
       "347         0.039543           0.000000    0.080460          0.746835   \n",
       "348         0.047126           0.057500    0.204981          0.746835   \n",
       "349         0.034469           0.012333    0.208812          0.620253   \n",
       "350         0.119497           0.000000    0.432950          0.746835   \n",
       "351         0.031477           0.625000    0.149425          0.746835   \n",
       "352         0.080202           0.037917    0.155172          0.746835   \n",
       "353         0.070579           0.157042    0.176245          0.746835   \n",
       "354         0.073295           0.007792    0.249042          0.367089   \n",
       "355         0.104827           0.050542    0.323755          0.746835   \n",
       "356         0.052269           0.080667    0.109195          0.746835   \n",
       "357         0.034469           0.000000    0.061303          0.746835   \n",
       "358         0.043183           0.000000    0.091954          0.746835   \n",
       "359         0.055150           0.111125    0.237548          0.746835   \n",
       "360         0.117884           0.177292    0.130268          0.746835   \n",
       "361         0.031284           0.090292    0.136015          0.746835   \n",
       "362         0.055274           0.074042    0.162835          0.746835   \n",
       "363         0.057329           0.029542    0.166667          0.746835   \n",
       "364         0.044810           0.083042    0.187739          0.746835   \n",
       "365         0.068938           0.099708    0.249042          0.746835   \n",
       "366         0.126846           0.000000    0.134100          0.367089   \n",
       "\n",
       "     Credit_History  Gender_Male  Married_Yes  Dependents_1  Dependents_2  \\\n",
       "0               1.0            1            1             0             0   \n",
       "1               1.0            1            1             1             0   \n",
       "2               1.0            1            1             0             1   \n",
       "3               0.0            1            1             0             1   \n",
       "4               1.0            1            0             0             0   \n",
       "5               1.0            1            1             0             0   \n",
       "6               1.0            0            0             1             0   \n",
       "7               0.0            1            1             0             1   \n",
       "8               1.0            1            1             0             1   \n",
       "9               1.0            1            0             0             0   \n",
       "10              1.0            1            0             0             0   \n",
       "11              1.0            1            1             1             0   \n",
       "12              0.0            1            0             0             0   \n",
       "13              0.0            1            1             0             1   \n",
       "14              1.0            0            0             0             0   \n",
       "15              1.0            1            0             1             0   \n",
       "16              1.0            1            1             0             1   \n",
       "17              1.0            1            1             0             0   \n",
       "18              1.0            1            1             0             0   \n",
       "19              1.0            1            0             0             0   \n",
       "20              1.0            1            1             1             0   \n",
       "21              1.0            0            0             0             0   \n",
       "22              1.0            0            0             0             0   \n",
       "23              1.0            0            0             0             0   \n",
       "24              1.0            1            1             0             0   \n",
       "25              0.0            1            0             0             0   \n",
       "26              0.0            1            1             0             1   \n",
       "27              1.0            1            1             0             0   \n",
       "28              0.0            1            1             0             0   \n",
       "29              1.0            1            0             0             0   \n",
       "..              ...          ...          ...           ...           ...   \n",
       "337             1.0            1            1             0             0   \n",
       "338             1.0            1            1             1             0   \n",
       "339             0.0            0            0             0             0   \n",
       "340             1.0            1            1             0             0   \n",
       "341             1.0            1            0             0             0   \n",
       "342             1.0            1            1             0             0   \n",
       "343             1.0            1            1             1             0   \n",
       "344             1.0            1            0             0             0   \n",
       "345             1.0            1            1             0             0   \n",
       "346             0.0            1            1             0             0   \n",
       "347             1.0            1            0             0             0   \n",
       "348             1.0            1            1             0             1   \n",
       "349             1.0            1            1             0             0   \n",
       "350             1.0            1            1             0             1   \n",
       "351             0.0            1            0             0             0   \n",
       "352             1.0            1            1             0             0   \n",
       "353             1.0            1            1             0             0   \n",
       "354             0.0            1            1             0             0   \n",
       "355             1.0            1            1             0             0   \n",
       "356             1.0            1            1             1             0   \n",
       "357             1.0            1            0             0             0   \n",
       "358             0.0            1            1             0             1   \n",
       "359             1.0            1            0             0             0   \n",
       "360             0.0            0            1             0             0   \n",
       "361             1.0            1            1             1             0   \n",
       "362             1.0            1            1             0             0   \n",
       "363             1.0            1            1             0             0   \n",
       "364             0.0            1            0             0             0   \n",
       "365             1.0            1            1             0             0   \n",
       "366             1.0            1            0             0             0   \n",
       "\n",
       "     Dependents_3+  Education_Not Graduate  Self_Employed_Yes  \\\n",
       "0                0                       0                  0   \n",
       "1                0                       0                  0   \n",
       "2                0                       0                  0   \n",
       "3                0                       0                  0   \n",
       "4                0                       1                  0   \n",
       "5                0                       1                  1   \n",
       "6                0                       1                  0   \n",
       "7                0                       1                  0   \n",
       "8                0                       0                  0   \n",
       "9                0                       1                  0   \n",
       "10               0                       1                  0   \n",
       "11               0                       0                  0   \n",
       "12               1                       0                  0   \n",
       "13               0                       0                  0   \n",
       "14               0                       0                  0   \n",
       "15               0                       0                  0   \n",
       "16               0                       0                  0   \n",
       "17               1                       0                  0   \n",
       "18               0                       0                  0   \n",
       "19               0                       0                  0   \n",
       "20               0                       1                  0   \n",
       "21               1                       1                  0   \n",
       "22               0                       0                  0   \n",
       "23               0                       1                  0   \n",
       "24               0                       0                  0   \n",
       "25               0                       0                  0   \n",
       "26               0                       0                  0   \n",
       "27               0                       0                  0   \n",
       "28               0                       0                  0   \n",
       "29               0                       0                  0   \n",
       "..             ...                     ...                ...   \n",
       "337              0                       0                  0   \n",
       "338              0                       0                  1   \n",
       "339              0                       0                  0   \n",
       "340              0                       0                  1   \n",
       "341              0                       0                  1   \n",
       "342              1                       1                  0   \n",
       "343              0                       0                  0   \n",
       "344              0                       0                  0   \n",
       "345              1                       0                  0   \n",
       "346              0                       0                  0   \n",
       "347              0                       1                  0   \n",
       "348              0                       1                  0   \n",
       "349              0                       0                  1   \n",
       "350              0                       0                  0   \n",
       "351              0                       0                  0   \n",
       "352              0                       0                  0   \n",
       "353              0                       0                  0   \n",
       "354              1                       1                  0   \n",
       "355              1                       0                  0   \n",
       "356              0                       0                  0   \n",
       "357              0                       0                  0   \n",
       "358              0                       1                  0   \n",
       "359              0                       0                  0   \n",
       "360              0                       0                  0   \n",
       "361              0                       0                  0   \n",
       "362              1                       1                  1   \n",
       "363              0                       0                  0   \n",
       "364              0                       0                  0   \n",
       "365              0                       0                  0   \n",
       "366              0                       0                  1   \n",
       "\n",
       "     Property_Area_Semiurban  Property_Area_Urban  \n",
       "0                          0                    1  \n",
       "1                          0                    1  \n",
       "2                          0                    1  \n",
       "3                          0                    1  \n",
       "4                          0                    1  \n",
       "5                          0                    1  \n",
       "6                          1                    0  \n",
       "7                          0                    0  \n",
       "8                          0                    1  \n",
       "9                          1                    0  \n",
       "10                         0                    1  \n",
       "11                         1                    0  \n",
       "12                         0                    1  \n",
       "13                         1                    0  \n",
       "14                         1                    0  \n",
       "15                         0                    1  \n",
       "16                         0                    1  \n",
       "17                         1                    0  \n",
       "18                         0                    1  \n",
       "19                         1                    0  \n",
       "20                         0                    1  \n",
       "21                         0                    1  \n",
       "22                         0                    1  \n",
       "23                         0                    1  \n",
       "24                         0                    1  \n",
       "25                         0                    0  \n",
       "26                         0                    1  \n",
       "27                         0                    1  \n",
       "28                         1                    0  \n",
       "29                         0                    1  \n",
       "..                       ...                  ...  \n",
       "337                        0                    1  \n",
       "338                        0                    0  \n",
       "339                        0                    0  \n",
       "340                        1                    0  \n",
       "341                        0                    0  \n",
       "342                        0                    0  \n",
       "343                        0                    1  \n",
       "344                        0                    0  \n",
       "345                        0                    1  \n",
       "346                        0                    0  \n",
       "347                        0                    1  \n",
       "348                        0                    1  \n",
       "349                        0                    0  \n",
       "350                        0                    0  \n",
       "351                        0                    0  \n",
       "352                        0                    1  \n",
       "353                        0                    0  \n",
       "354                        1                    0  \n",
       "355                        0                    1  \n",
       "356                        0                    1  \n",
       "357                        0                    1  \n",
       "358                        0                    0  \n",
       "359                        1                    0  \n",
       "360                        0                    1  \n",
       "361                        1                    0  \n",
       "362                        0                    1  \n",
       "363                        0                    1  \n",
       "364                        1                    0  \n",
       "365                        0                    0  \n",
       "366                        0                    0  \n",
       "\n",
       "[367 rows x 14 columns]>"
      ]
     },
     "execution_count": 304,
     "metadata": {},
     "output_type": "execute_result"
    }
   ],
   "source": [
    "data_raw_test_clean =data_raw_test_clean.fillna(0)\n",
    "data_raw_test_clean.corr"
   ]
  },
  {
   "cell_type": "code",
   "execution_count": 305,
   "metadata": {},
   "outputs": [
    {
     "data": {
      "text/plain": [
       "(529, 14)"
      ]
     },
     "execution_count": 305,
     "metadata": {},
     "output_type": "execute_result"
    }
   ],
   "source": [
    "features.shape"
   ]
  },
  {
   "cell_type": "code",
   "execution_count": 306,
   "metadata": {},
   "outputs": [
    {
     "data": {
      "text/plain": [
       "(367, 14)"
      ]
     },
     "execution_count": 306,
     "metadata": {},
     "output_type": "execute_result"
    }
   ],
   "source": [
    "prep_data_test_clean.shape"
   ]
  },
  {
   "cell_type": "code",
   "execution_count": 327,
   "metadata": {},
   "outputs": [],
   "source": [
    "# Fit and Predict\n",
    "lr_clf = LogisticRegression(penalty='l2', C=0.01,class_weight='balanced').fit(features,label)\n",
    "pred_class_y = lr_clf.predict(prep_data_test_clean)"
   ]
  },
  {
   "cell_type": "code",
   "execution_count": 329,
   "metadata": {},
   "outputs": [],
   "source": [
    "df = pd.DataFrame(pred_class_y)\n",
    "df.to_csv(r'status.csv')\n",
    "# col_names =  ['Loan_Status']\n",
    "# result_df  = pd.DataFrame(columns = col_names)\n",
    "# result_df['Loan_Status'] = "
   ]
  },
  {
   "cell_type": "code",
   "execution_count": 330,
   "metadata": {},
   "outputs": [
    {
     "data": {
      "text/plain": [
       "array([1., 1., 1., 0., 1., 0., 1., 0., 1., 1., 1., 1., 0., 0., 1., 1., 1.,\n",
       "       1., 1., 1., 1., 1., 1., 1., 1., 0., 0., 1., 0., 1., 1., 1., 1., 1.,\n",
       "       1., 0., 1., 1., 1., 1., 1., 1., 1., 1., 1., 0., 1., 1., 1., 1., 1.,\n",
       "       1., 1., 1., 1., 0., 1., 1., 0., 1., 1., 1., 1., 0., 1., 1., 0., 0.,\n",
       "       1., 0., 1., 1., 1., 1., 1., 1., 1., 1., 1., 1., 0., 1., 0., 1., 0.,\n",
       "       1., 1., 1., 1., 1., 0., 1., 1., 1., 0., 1., 1., 1., 1., 0., 1., 0.,\n",
       "       1., 1., 0., 1., 0., 1., 1., 1., 1., 1., 1., 1., 1., 0., 1., 0., 0.,\n",
       "       0., 1., 1., 1., 0., 0., 1., 0., 1., 1., 1., 1., 1., 1., 1., 1., 1.,\n",
       "       1., 1., 1., 0., 0., 1., 0., 0., 1., 1., 1., 0., 1., 1., 1., 1., 1.,\n",
       "       0., 1., 1., 1., 1., 1., 1., 1., 0., 1., 1., 0., 0., 0., 1., 0., 1.,\n",
       "       1., 1., 1., 0., 0., 1., 1., 0., 1., 0., 1., 1., 1., 1., 1., 0., 1.,\n",
       "       1., 1., 1., 1., 1., 0., 0., 1., 1., 0., 1., 0., 1., 1., 1., 0., 1.,\n",
       "       1., 1., 1., 1., 1., 1., 1., 0., 1., 1., 1., 1., 1., 1., 1., 1., 0.,\n",
       "       1., 1., 1., 0., 1., 1., 1., 1., 0., 1., 1., 1., 1., 1., 0., 0., 1.,\n",
       "       1., 1., 0., 0., 1., 0., 1., 0., 1., 1., 1., 1., 0., 1., 1., 1., 1.,\n",
       "       0., 1., 1., 1., 0., 1., 1., 0., 1., 1., 0., 0., 1., 0., 1., 1., 1.,\n",
       "       1., 0., 0., 1., 1., 1., 0., 1., 1., 1., 0., 1., 1., 1., 0., 1., 1.,\n",
       "       1., 1., 1., 1., 0., 0., 1., 1., 1., 1., 1., 1., 0., 1., 1., 1., 0.,\n",
       "       1., 1., 1., 1., 1., 0., 1., 1., 1., 1., 1., 0., 1., 1., 1., 1., 1.,\n",
       "       1., 1., 0., 1., 1., 1., 0., 1., 1., 1., 1., 1., 1., 0., 1., 1., 0.,\n",
       "       1., 1., 1., 1., 1., 1., 0., 1., 1., 1., 1., 0., 1., 1., 0., 1., 1.,\n",
       "       1., 0., 1., 0., 1., 0., 1., 0., 1., 1.])"
      ]
     },
     "execution_count": 330,
     "metadata": {},
     "output_type": "execute_result"
    }
   ],
   "source": [
    "pred_class_y"
   ]
  },
  {
   "cell_type": "code",
   "execution_count": null,
   "metadata": {},
   "outputs": [],
   "source": []
  },
  {
   "cell_type": "code",
   "execution_count": null,
   "metadata": {},
   "outputs": [],
   "source": []
  }
 ],
 "metadata": {
  "kernelspec": {
   "display_name": "Python 3",
   "language": "python",
   "name": "python3"
  },
  "language_info": {
   "codemirror_mode": {
    "name": "ipython",
    "version": 3
   },
   "file_extension": ".py",
   "mimetype": "text/x-python",
   "name": "python",
   "nbconvert_exporter": "python",
   "pygments_lexer": "ipython3",
   "version": "3.7.0"
  }
 },
 "nbformat": 4,
 "nbformat_minor": 2
}
